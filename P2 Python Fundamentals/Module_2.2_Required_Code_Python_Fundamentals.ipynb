{
 "cells": [
  {
   "attachments": {},
   "cell_type": "markdown",
   "metadata": {},
   "source": [
    "#  P2M2: Module 2 Required Coding Activity  \n",
    " \n",
    "Be sure to complete all tutorials and practice prior to attempting this activity.  \n",
    "\n",
    "| Important Assignment Requirements |  \n",
    "|:-------------------------------|  \n",
    "| **NOTE:** This program requires creating a function using **`def`** and **`return`**, using **`print`** output, **`input`**, **`if`**, **`in`** keywords, **`.append()`**, **`.pop()`**, **`.remove()`** list methods.  Be sure to include your full name in the prompts. See the example input below for more detail. |   \n",
    "\n",
    "## Program: list-o-matic  \n",
    "This program takes string input and checks if that string is in a list of strings    \n",
    "- if string is in the list it removes the first instance from list  \n",
    "- if string is not in the list the input gets appended to the list  \n",
    "- if the string is empty then the last item is popped from the list \n",
    "- if the **list becomes empty** the program ends  \n",
    "- if the user enters \"quit\" then the program ends  \n",
    "\n",
    "program has 2 parts  \n",
    "- **program flow** which can be modified to ask for a specific type of item.  This is the programmers choice.  Add a list of fish, trees, books, movies, songs.... your choice.  \n",
    "- **list-o-matic** Function which takes arguments of a string and a list.  The function modifies the list and returns a message as seen below.  \n",
    "\n",
    "![Flowchart of List-o-Matic](images/list_o_matic.png)\n",
    "\n",
    "**[ ]** initialize a list with several strings at the beginning of the program flow and follow the flow chart and output examples\n",
    "\n",
    " *example input/output*  \n",
    " ```\n",
    "Welcome, [YOUR NAME GOES HERE]. Look at all the animals ['cat', 'goat', 'cat']\n",
    "enter the name of an animal: horse\n",
    "1 instance of horse appended to list\n",
    "\n",
    "Welcome, [YOUR NAME GOES HERE]. Look at all the animals ['cat', 'goat', 'cat', 'horse']\n",
    "enter the name of an animal: cat\n",
    "1 instance of cat removed from list\n",
    "\n",
    "Welcome, [YOUR NAME GOES HERE]. Look at all the animals ['goat', 'cat', 'horse']\n",
    "enter the name of an animal: cat\n",
    "1 instance of cat removed from list\n",
    "\n",
    "Welcome, [YOUR NAME GOES HERE]. Look at all the animals ['goat', 'horse']\n",
    "enter the name of an animal:          (<-- entered empty string)\n",
    "horse popped from list\n",
    "\n",
    "Welcome, [YOUR NAME GOES HERE]. Look at all the animals ['goat']\n",
    "enter the name of an animal:          (<-- entered empty string)\n",
    "goat popped from list\n",
    "\n",
    "Goodbye!\n",
    "```  \n",
    "\n",
    "*example 2*\n",
    "```\n",
    "Welcome, [YOUR NAME GOES HERE]. Look at all the animals ['cat', 'goat', 'cat']\n",
    "enter the name of an animal: Quit\n",
    "Goodbye!\n",
    "```  \n",
    "\n"
   ]
  },
  {
   "cell_type": "code",
   "execution_count": null,
   "metadata": {
    "collapsed": true
   },
   "outputs": [
    {
     "name": "stdout",
     "output_type": "stream",
     "text": [
      "Welcome, [Your Full Name Here]. Look at all the animals ['cat', 'goat', 'cat']\n",
      "1 instance of cat removed from list\n",
      "1 instance of cat removed from list\n",
      "goat popped from list\n",
      "Goodbye!\n"
     ]
    }
   ],
   "source": [
    "# [] create list-o-matic as a function and call it\n",
    "# [] be sure to include your spelled-out name in the welcome prompt\n",
    "# [] you are welcome to use any list you like for list-o-matic, does not have to be animals \n",
    "\n",
    "def list_o_matic(item, list):\n",
    "    if item == \"\":\n",
    "        removed = list.pop()\n",
    "        return (f\"{removed} popped from list\")\n",
    "    elif item in list:\n",
    "        list.remove(item)\n",
    "        return (f\"1 instance of {item} removed from list\")\n",
    "    else:\n",
    "        list.append(item)\n",
    "        return (f\"1 instance of {item} appended to list\")\n",
    "\n",
    "\n",
    "my_list = ['cat', 'bunny', 'turtle']\n",
    "\n",
    "print(\"Welcome, Colin Kennel. Look at all the animals\", my_list)\n",
    "\n",
    "while True:\n",
    "    item = input(\"Enter the name of an animal: \")\n",
    "\n",
    "    if item.lower() == \"quit\":\n",
    "        print(\"Goodbye!\")\n",
    "        break\n",
    "\n",
    "    message = list_o_matic(item, my_list)\n",
    "    print(message)\n",
    "\n",
    "    if len(my_list) == 0:\n",
    "        print(\"List empty, goodbye!\")\n",
    "        break\n",
    "\n"
   ]
  },
  {
   "cell_type": "markdown",
   "metadata": {},
   "source": [
    "Submit this by creating a python file (.py) and submitting it in D2L. Be sure to test that it works.\n"
   ]
  }
 ],
 "metadata": {
  "anaconda-cloud": {},
  "kernelspec": {
   "display_name": ".venv",
   "language": "python",
   "name": "python3"
  },
  "language_info": {
   "codemirror_mode": {
    "name": "ipython",
    "version": 3
   },
   "file_extension": ".py",
   "mimetype": "text/x-python",
   "name": "python",
   "nbconvert_exporter": "python",
   "pygments_lexer": "ipython3",
   "version": "3.12.3"
  }
 },
 "nbformat": 4,
 "nbformat_minor": 1
}
